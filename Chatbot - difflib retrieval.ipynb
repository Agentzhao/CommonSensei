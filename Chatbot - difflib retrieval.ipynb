{
 "cells": [
  {
   "cell_type": "code",
   "execution_count": 1,
   "metadata": {
    "collapsed": true
   },
   "outputs": [],
   "source": [
    "import random\n",
    "import difflib"
   ]
  },
  {
   "cell_type": "code",
   "execution_count": 2,
   "metadata": {
    "collapsed": true
   },
   "outputs": [],
   "source": [
    "# Reading from a text file and input to list\n",
    "corpus = []\n",
    "with open ('BNCSplitWordsCorpus.txt', 'r', encoding='utf-8') as cor:\n",
    "    COR = cor.readlines()\n",
    "    \n",
    "for item in COR:\n",
    "    corpus.append(item.strip())"
   ]
  },
  {
   "cell_type": "code",
   "execution_count": 3,
   "metadata": {},
   "outputs": [
    {
     "data": {
      "text/plain": [
       "['You enjoyed yourself in America\\n',\n",
       " 'Eh\\n',\n",
       " 'did you\\n',\n",
       " 'Oh I covered a nice trip yes\\n',\n",
       " 'Oh very good\\n',\n",
       " 'saw Mary and Andrew and\\n',\n",
       " 'Yes you did\\n',\n",
       " \"in fact the whole family was together for Mary's wedding\\n\",\n",
       " 'Oh very nice very nice yes\\n',\n",
       " \"It's horrible\\n\"]"
      ]
     },
     "execution_count": 3,
     "metadata": {},
     "output_type": "execute_result"
    }
   ],
   "source": [
    "COR[:10]"
   ]
  },
  {
   "cell_type": "code",
   "execution_count": 4,
   "metadata": {},
   "outputs": [
    {
     "data": {
      "text/plain": [
       "['You enjoyed yourself in America',\n",
       " 'Eh',\n",
       " 'did you',\n",
       " 'Oh I covered a nice trip yes',\n",
       " 'Oh very good']"
      ]
     },
     "execution_count": 4,
     "metadata": {},
     "output_type": "execute_result"
    }
   ],
   "source": [
    "corpus[:5]"
   ]
  },
  {
   "cell_type": "code",
   "execution_count": 5,
   "metadata": {},
   "outputs": [
    {
     "data": {
      "text/plain": [
       "611014"
      ]
     },
     "execution_count": 5,
     "metadata": {},
     "output_type": "execute_result"
    }
   ],
   "source": [
    "len(corpus)"
   ]
  },
  {
   "cell_type": "code",
   "execution_count": 6,
   "metadata": {
    "collapsed": true
   },
   "outputs": [],
   "source": [
    "msg = \"It's a beautiful day, isn't it ?\""
   ]
  },
  {
   "cell_type": "code",
   "execution_count": 7,
   "metadata": {},
   "outputs": [
    {
     "data": {
      "text/plain": [
       "[\"It's beautiful int it\"]"
      ]
     },
     "execution_count": 7,
     "metadata": {},
     "output_type": "execute_result"
    }
   ],
   "source": [
    "match = difflib.get_close_matches(msg, corpus, n=1, cutoff=0.65); match"
   ]
  },
  {
   "cell_type": "code",
   "execution_count": 8,
   "metadata": {
    "collapsed": true
   },
   "outputs": [],
   "source": [
    "# Define a function to respond to a given message input\n",
    "def reply(message):\n",
    "    \n",
    "    # Getting close matches with 65% confidence\n",
    "    match = difflib.get_close_matches(message, corpus, n=5, cutoff=0.65) \n",
    "    \n",
    "    if match:\n",
    "        return random.choice(match)\n",
    "    else: \n",
    "        return \"I'm not so sure\"  "
   ]
  },
  {
   "cell_type": "code",
   "execution_count": 9,
   "metadata": {
    "scrolled": false
   },
   "outputs": [
    {
     "name": "stdout",
     "output_type": "stream",
     "text": [
      "Say something: It's beautiful int it\n",
      "It's beautiful int it\n",
      "\n",
      "It's beautiful int it\n",
      "I bet it's beautiful inn it\n",
      "\n",
      "bye\n",
      "See you later !\n"
     ]
    }
   ],
   "source": [
    "ask = input('Say something: ')\n",
    "while ask != 'bye':\n",
    "    \n",
    "    response = reply(ask)\n",
    "            \n",
    "    print (response)\n",
    "    print ('')\n",
    "    ask = input()\n",
    "\n",
    "print ('See you later !')"
   ]
  },
  {
   "cell_type": "code",
   "execution_count": null,
   "metadata": {
    "collapsed": true
   },
   "outputs": [],
   "source": []
  }
 ],
 "metadata": {
  "kernelspec": {
   "display_name": "Python 3",
   "language": "python",
   "name": "python3"
  },
  "language_info": {
   "codemirror_mode": {
    "name": "ipython",
    "version": 3
   },
   "file_extension": ".py",
   "mimetype": "text/x-python",
   "name": "python",
   "nbconvert_exporter": "python",
   "pygments_lexer": "ipython3",
   "version": "3.6.3"
  }
 },
 "nbformat": 4,
 "nbformat_minor": 1
}
