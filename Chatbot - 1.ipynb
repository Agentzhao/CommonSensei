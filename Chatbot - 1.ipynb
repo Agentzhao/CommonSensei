{
 "cells": [
  {
   "cell_type": "markdown",
   "metadata": {},
   "source": [
    "**Adapted from lizadaly/brobot**"
   ]
  },
  {
   "cell_type": "code",
   "execution_count": 2,
   "metadata": {},
   "outputs": [],
   "source": [
    "import nltk\n",
    "from nltk.tokenize import word_tokenize\n",
    "import random"
   ]
  },
  {
   "cell_type": "markdown",
   "metadata": {},
   "source": [
    "### Simple Greetings chatbot"
   ]
  },
  {
   "cell_type": "code",
   "execution_count": 3,
   "metadata": {},
   "outputs": [],
   "source": [
    "# Simple Greetings chatbot \n",
    "GREETING_KEYWORDS = (\"hello\", \"hi\", )\n",
    "\n",
    "GREETING_RESPONSES = [\"hi hi\", \"hey\", ]\n",
    "\n",
    "def greeting(sentence):\n",
    "    \"\"\"If any of the words in the user's input was a greeting, return a greeting response\"\"\"\n",
    "    sentence = word_tokenize(sentence)\n",
    "    for word in sentence:\n",
    "        if word.lower() is GREETING_KEYWORDS:\n",
    "            return random.choice(GREETING_RESPONSES)\n",
    "        else:\n",
    "            return 'no comprehendo'"
   ]
  },
  {
   "cell_type": "code",
   "execution_count": 4,
   "metadata": {},
   "outputs": [
    {
     "name": "stdout",
     "output_type": "stream",
     "text": [
      "say something : hihi\n"
     ]
    }
   ],
   "source": [
    "question = input('say something : hi')"
   ]
  },
  {
   "cell_type": "code",
   "execution_count": 5,
   "metadata": {},
   "outputs": [
    {
     "ename": "NameError",
     "evalue": "name 'questions' is not defined",
     "output_type": "error",
     "traceback": [
      "\u001b[0;31m---------------------------------------------------------------------------\u001b[0m",
      "\u001b[0;31mNameError\u001b[0m                                 Traceback (most recent call last)",
      "\u001b[0;32m<ipython-input-5-6cd083cbc9c1>\u001b[0m in \u001b[0;36m<module>\u001b[0;34m()\u001b[0m\n\u001b[0;32m----> 1\u001b[0;31m \u001b[0manswer\u001b[0m \u001b[0;34m=\u001b[0m \u001b[0mgreeting\u001b[0m\u001b[0;34m(\u001b[0m\u001b[0mquestions\u001b[0m\u001b[0;34m)\u001b[0m\u001b[0;34m\u001b[0m\u001b[0m\n\u001b[0m\u001b[1;32m      2\u001b[0m \u001b[0mprint\u001b[0m \u001b[0;34m(\u001b[0m\u001b[0manswer\u001b[0m\u001b[0;34m)\u001b[0m\u001b[0;34m\u001b[0m\u001b[0m\n",
      "\u001b[0;31mNameError\u001b[0m: name 'questions' is not defined"
     ]
    }
   ],
   "source": [
    "answer = greeting(questions)\n",
    "print (answer)"
   ]
  },
  {
   "cell_type": "markdown",
   "metadata": {
    "collapsed": true
   },
   "source": [
    "### TextBlob"
   ]
  },
  {
   "cell_type": "code",
   "execution_count": null,
   "metadata": {},
   "outputs": [],
   "source": [
    "# nltk wrapper\n",
    "from textblob import TextBlob"
   ]
  },
  {
   "cell_type": "code",
   "execution_count": null,
   "metadata": {},
   "outputs": [],
   "source": [
    "question = input('say something : ')"
   ]
  },
  {
   "cell_type": "code",
   "execution_count": null,
   "metadata": {},
   "outputs": [],
   "source": [
    "text = TextBlob(question)"
   ]
  },
  {
   "cell_type": "code",
   "execution_count": null,
   "metadata": {},
   "outputs": [],
   "source": [
    "text.words"
   ]
  },
  {
   "cell_type": "code",
   "execution_count": null,
   "metadata": {},
   "outputs": [],
   "source": [
    "text.words.count('you')"
   ]
  },
  {
   "cell_type": "code",
   "execution_count": null,
   "metadata": {},
   "outputs": [],
   "source": [
    "text.tags"
   ]
  },
  {
   "cell_type": "code",
   "execution_count": null,
   "metadata": {
    "collapsed": true
   },
   "outputs": [],
   "source": [
    "text[:10]"
   ]
  },
  {
   "cell_type": "markdown",
   "metadata": {},
   "source": [
    "### Pre-processing"
   ]
  },
  {
   "cell_type": "code",
   "execution_count": null,
   "metadata": {
    "collapsed": true
   },
   "outputs": [],
   "source": [
    "# check spelling\n",
    "text = text.correct(); text"
   ]
  },
  {
   "cell_type": "code",
   "execution_count": null,
   "metadata": {
    "collapsed": true
   },
   "outputs": [],
   "source": [
    "# convert to lower case\n",
    "text = text.lower(); text"
   ]
  },
  {
   "cell_type": "code",
   "execution_count": null,
   "metadata": {
    "collapsed": true
   },
   "outputs": [],
   "source": [
    "# remove symbols\n",
    "clean_text = '  '.join(text.words)"
   ]
  },
  {
   "cell_type": "code",
   "execution_count": null,
   "metadata": {
    "collapsed": true
   },
   "outputs": [],
   "source": [
    "clean_text"
   ]
  },
  {
   "cell_type": "code",
   "execution_count": null,
   "metadata": {
    "collapsed": true
   },
   "outputs": [],
   "source": [
    "# replace selected words  \n",
    "clean_text = clean_text.replace('charcot', 'chatbot')\n",
    "clean_text"
   ]
  },
  {
   "cell_type": "markdown",
   "metadata": {},
   "source": [
    "### Part-of-Speech Extraction"
   ]
  },
  {
   "cell_type": "code",
   "execution_count": null,
   "metadata": {
    "collapsed": true
   },
   "outputs": [],
   "source": [
    "text = TextBlob(clean_text)"
   ]
  },
  {
   "cell_type": "code",
   "execution_count": null,
   "metadata": {
    "collapsed": true
   },
   "outputs": [],
   "source": [
    "text_tags = text.tags; text_tags"
   ]
  },
  {
   "cell_type": "code",
   "execution_count": null,
   "metadata": {
    "collapsed": true
   },
   "outputs": [],
   "source": [
    "# Given a sentence, find the 1st noun\n",
    "noun = None\n",
    "for word, pos in text_tags\n",
    "    if pos == 'NN':  # NN is short for noun\n",
    "        noun = word\n",
    "        break\n",
    "noun"
   ]
  },
  {
   "cell_type": "code",
   "execution_count": null,
   "metadata": {
    "collapsed": true
   },
   "outputs": [],
   "source": [
    "# Pick a candidate verb for the sentence\n",
    "verb = None\n",
    "partofspeech = None\n",
    "for word, pos in text_tags:\n",
    "\n",
    "        verb = word\n",
    "        partofspeech = pos\n",
    "        break\n",
    "\n",
    "verb, partofspeech"
   ]
  },
  {
   "cell_type": "code",
   "execution_count": null,
   "metadata": {
    "collapsed": true
   },
   "outputs": [],
   "source": [
    "# Given a sentence, find the 1st adjective. Returns None if no candidate found\n",
    "adjective = None\n",
    "for word, pos in text_tags:\n",
    "    if pos == 'JJ':  # This is an adjective\n",
    "        adjective = word\n",
    "        break\n",
    "        \n",
    "adjective"
   ]
  },
  {
   "cell_type": "code",
   "execution_count": null,
   "metadata": {
    "collapsed": true
   },
   "outputs": [],
   "source": [
    "# Given a sentence, find the 1st pronoun \n",
    "response_pronoun = None\n",
    "for word, pos in text_tags:\n",
    "    # Disambiguate pronouns\n",
    "    \n",
    "        response_pronoun = 'I'\n",
    "    elif pos == 'PRP' and word == 'I':\n",
    "        # If the user mentioned themselves, then they will definitely be the pronoun\n",
    "        response_pronoun = 'You'\n",
    "\n",
    "response_pronoun"
   ]
  },
  {
   "cell_type": "markdown",
   "metadata": {},
   "source": [
    "### String Formatting"
   ]
  },
  {
   "cell_type": "code",
   "execution_count": null,
   "metadata": {
    "collapsed": true
   },
   "outputs": [],
   "source": [
    "noun"
   ]
  },
  {
   "cell_type": "code",
   "execution_count": null,
   "metadata": {
    "collapsed": true
   },
   "outputs": [],
   "source": [
    "noun.pluralize()"
   ]
  },
  {
   "cell_type": "code",
   "execution_count": null,
   "metadata": {
    "collapsed": true
   },
   "outputs": [],
   "source": [
    "noun.pluralize().capitalize()"
   ]
  },
  {
   "cell_type": "code",
   "execution_count": null,
   "metadata": {
    "collapsed": true
   },
   "outputs": [],
   "source": [
    "S = 'I like {noun}'"
   ]
  },
  {
   "cell_type": "code",
   "execution_count": null,
   "metadata": {
    "collapsed": true
   },
   "outputs": [],
   "source": [
    "ss = s.format(**('noun' : noun)); ss"
   ]
  },
  {
   "cell_type": "markdown",
   "metadata": {},
   "source": [
    "### Check for comment about bot"
   ]
  },
  {
   "cell_type": "code",
   "execution_count": null,
   "metadata": {
    "collapsed": true
   },
   "outputs": [],
   "source": [
    "\"\"\"Check if the user's input was about the bot's activities, in which case try to fashion a response\n",
    "    that feels right based on their input.\"\"\"\n",
    "\n",
    "SELF_VERBS_WITH_NOUN_CAPS_PLURAL = [\n",
    "    \"My last startup totally crushed the {noun} vertical\",\n",
    "    \"Were you aware I was a serial entrepreneur in the {noun} sector?\",\n",
    "    \"My startup is Uber for {noun}\",\n",
    "    \"I really consider myself an expert on {noun}\",\n",
    "]\n",
    "\n",
    "SELF_VERBS_WITH_NOUN_LOWER = [\n",
    "    \"Yeah and I know a lot about {noun}\",\n",
    "    \"My friends always ask me about {noun}\",\n",
    "]\n",
    "\n",
    "SELF_VERBS_WITH_ADJECTIVE = [\n",
    "    \"I'm personally building the {adjective} Economy\",\n",
    "    \"I consider myself to be a {adjective}preneur\",\n",
    "]\n",
    "\n",
    "# initialise a response\n",
    "resp = None\n",
    "\n",
    "\n",
    "    if noun:\n",
    "        \n",
    "            resp = random.choice(SELF_VERBS_WITH_NOUN_CAPS_PLURAL).format(**{'noun': noun.pluralize().capitalize()})\n",
    "        else:\n",
    "            resp = random.choice(SELF_VERBS_WITH_NOUN_LOWER).format(**{'noun': noun})\n",
    "    else:\n",
    "        resp = random.choice(SELF_VERBS_WITH_ADJECTIVE).format(**{'adjective': adjective})"
   ]
  },
  {
   "cell_type": "code",
   "execution_count": null,
   "metadata": {
    "collapsed": true
   },
   "outputs": [],
   "source": [
    "resp"
   ]
  },
  {
   "cell_type": "markdown",
   "metadata": {
    "collapsed": true
   },
   "source": [
    "### Comments about self and none response"
   ]
  },
  {
   "cell_type": "code",
   "execution_count": null,
   "metadata": {
    "collapsed": true
   },
   "outputs": [],
   "source": [
    "# Sentences we'll respond with if we have no idea what the user just said\n",
    "NONE_RESPONSES = [\n",
    "    \"I have no idea what you've just said\",\n",
    "    \"huh ? can you repeat that\",\n",
    "    \"please say that again\",\n",
    "    \"can you rephrase that ?\",\n",
    "    \"I don't understand\",\n",
    "    \"Let's talk about something else\",\n",
    "]\n",
    "\n",
    "# If the user says something about the bot itself, use one of these responses\n",
    "COMMENTS_ABOUT_SELF = [\n",
    "    \"You may be right\",\n",
    "    \"Do you really think so ?\",\n",
    "    \"You don't know what you are talking\",\n",
    "    \"We find ways to do it\",\n",
    "    \"I take that as a compliment\"\n",
    "]"
   ]
  },
  {
   "cell_type": "code",
   "execution_count": null,
   "metadata": {
    "collapsed": true
   },
   "outputs": [],
   "source": [
    "resp = None"
   ]
  },
  {
   "cell_type": "code",
   "execution_count": null,
   "metadata": {
    "collapsed": true
   },
   "outputs": [],
   "source": [
    "if not resp:  # i.e. if resp == None\n",
    "    if not response_pronoun:\n",
    "        resp = random.choice(NONE_RESPONSES)\n",
    "    elif response_pronoun == 'I' and verb:\n",
    "        resp = random.choice(COMMENTS_ABOUT_SELF)\n",
    "    \n",
    "# If we got through all that with nothing, use a random response\n",
    "if not resp:\n",
    "    resp = random.choice(NONE_RESPONSES)"
   ]
  },
  {
   "cell_type": "code",
   "execution_count": null,
   "metadata": {
    "collapsed": true
   },
   "outputs": [],
   "source": [
    "resp"
   ]
  },
  {
   "cell_type": "markdown",
   "metadata": {},
   "source": [
    "### Construct own response"
   ]
  },
  {
   "cell_type": "code",
   "execution_count": null,
   "metadata": {
    "collapsed": true
   },
   "outputs": [],
   "source": [
    "def starts_with_vowel(word):\n",
    "    \"\"\"Check for pronoun compability -- 'a' vs. 'an'\"\"\"\n"
   ]
  },
  {
   "cell_type": "code",
   "execution_count": null,
   "metadata": {
    "collapsed": true
   },
   "outputs": [],
   "source": [
    "\"\"\"No special cases matched, so we're going to try to construct a full sentence that uses as much\n",
    "    of the user's input as possible\"\"\"\n",
    "resp = []\n",
    "\n",
    "# place the pronoun first if found\n",
    "if response_pronoun:\n",
    "    resp.append(response_pronoun)\n",
    "\n",
    "    # respond if verb found\n",
    "    if verb:\n",
    "      \n",
    "        if verb_word in ('be', 'am', 'is', \"'m\"):  \n",
    "            if response_pronoun.lower() == 'you':\n",
    "                # The bot will always tell the person they aren't whatever they said they were\n",
    "              \n",
    "            else:\n",
    "                resp.append(verb_word)\n",
    "                \n",
    "    # respond if noun found\n",
    "    if noun:\n",
    "        if response_pronoun.lower() == \"i\":\n",
    "            prop_noun = \"am\"\n",
    "        elif response_pronoun.lower() == \"you\":\n",
    "            prop_noun = \"are\" \n",
    "        elif response_pronoun.lower == (\"he\" or \"she\" or \"it\"):\n",
    "            prop_noun = \"is\" \n",
    "        elif response_pronoun.lower == (\"they\" or \"we\"):\n",
    "            prop_noun = \"are\"\n",
    "        else:\n",
    "            prop_noun = \"is\"\n",
    "       \n",
    "        resp.append(prop_noun + \" \" + a_or_an + \" \" + noun)\n",
    "\n",
    "    resp.append(random.choice((\"la\", \"bro\", \"lol\", \"bruh\", \"\")))\n",
    "\n",
    "    resp = \" \".join(resp)\n",
    "\n",
    "# catch all response if nothing match the above\n",
    "else:\n",
    "    resp = \"yes, let's talk about something else\""
   ]
  },
  {
   "cell_type": "code",
   "execution_count": null,
   "metadata": {
    "collapsed": true
   },
   "outputs": [],
   "source": [
    "resp"
   ]
  },
  {
   "cell_type": "code",
   "execution_count": null,
   "metadata": {
    "collapsed": true
   },
   "outputs": [],
   "source": []
  }
 ],
 "metadata": {
  "kernelspec": {
   "display_name": "Python 3",
   "language": "python",
   "name": "python3"
  },
  "language_info": {
   "codemirror_mode": {
    "name": "ipython",
    "version": 3
   },
   "file_extension": ".py",
   "mimetype": "text/x-python",
   "name": "python",
   "nbconvert_exporter": "python",
   "pygments_lexer": "ipython3",
   "version": "3.5.4"
  }
 },
 "nbformat": 4,
 "nbformat_minor": 2
}
